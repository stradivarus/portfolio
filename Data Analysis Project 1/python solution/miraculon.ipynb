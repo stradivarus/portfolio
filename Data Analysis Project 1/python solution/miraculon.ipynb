{
 "cells": [
  {
   "cell_type": "markdown",
   "id": "d0c6c1a2",
   "metadata": {},
   "source": [
    "First, let's do some set up."
   ]
  },
  {
   "cell_type": "code",
   "execution_count": 3,
   "id": "e9039807",
   "metadata": {},
   "outputs": [],
   "source": [
    "import pandas as pd\n",
    "\n",
    "from scipy.stats import chi2_contingency, ttest_ind\n",
    "from scipy.stats.contingency import relative_risk, odds_ratio\n",
    "\n",
    "import seaborn as sns\n",
    "import matplotlib.pyplot as plt"
   ]
  },
  {
   "cell_type": "code",
   "execution_count": 4,
   "id": "9153e66c",
   "metadata": {},
   "outputs": [],
   "source": [
    "sns.set_theme(style=\"ticks\", palette=\"pastel\")"
   ]
  },
  {
   "cell_type": "code",
   "execution_count": 5,
   "id": "85d627e8",
   "metadata": {},
   "outputs": [],
   "source": [
    "pd.read_csv?"
   ]
  },
  {
   "cell_type": "markdown",
   "id": "560883b8",
   "metadata": {},
   "source": [
    "Time to read in data."
   ]
  },
  {
   "cell_type": "code",
   "execution_count": 8,
   "id": "fb11ee83",
   "metadata": {},
   "outputs": [],
   "source": [
    "df_study = pd.read_csv(\"../resources/clinical-study.csv\")\n",
    "df_protein = pd.read_csv(\"../resources/protein-levels.csv\")"
   ]
  },
  {
   "cell_type": "markdown",
   "id": "ed9b88d7",
   "metadata": {},
   "source": [
    "Join the two tables."
   ]
  },
  {
   "cell_type": "code",
   "execution_count": 9,
   "id": "b755201d",
   "metadata": {},
   "outputs": [],
   "source": [
    "df = pd.merge(df_study, df_protein, \"left\", left_on = \"subject_id\", right_on = \"participant_id\")"
   ]
  },
  {
   "cell_type": "markdown",
   "id": "d9abdf0b",
   "metadata": {},
   "source": [
    "And inspect the resulting data frame briefly."
   ]
  },
  {
   "cell_type": "code",
   "execution_count": 10,
   "id": "d0652a9e",
   "metadata": {},
   "outputs": [
    {
     "name": "stdout",
     "output_type": "stream",
     "text": [
      "<class 'pandas.core.frame.DataFrame'>\n",
      "Int64Index: 772 entries, 0 to 771\n",
      "Data columns (total 9 columns):\n",
      " #   Column                 Non-Null Count  Dtype  \n",
      "---  ------                 --------------  -----  \n",
      " 0   subject_id             772 non-null    object \n",
      " 1   age                    772 non-null    float64\n",
      " 2   sex                    772 non-null    object \n",
      " 3   weight                 761 non-null    float64\n",
      " 4   height                 772 non-null    float64\n",
      " 5   trt_grp                772 non-null    object \n",
      " 6   RESPONSE               772 non-null    object \n",
      " 7   participant_id         769 non-null    object \n",
      " 8   protein_concentration  764 non-null    float64\n",
      "dtypes: float64(4), object(5)\n",
      "memory usage: 60.3+ KB\n"
     ]
    }
   ],
   "source": [
    "df.describe()\n",
    "df.info()"
   ]
  },
  {
   "cell_type": "markdown",
   "id": "ac6d669f",
   "metadata": {},
   "source": [
    "Now, add a BMI column."
   ]
  },
  {
   "cell_type": "code",
   "execution_count": 11,
   "id": "0fc46554",
   "metadata": {},
   "outputs": [],
   "source": [
    "df[\"bmi\"] = round(df[\"weight\"] / (df[\"height\"] ** 2), 1)"
   ]
  },
  {
   "cell_type": "markdown",
   "id": "065f74cd",
   "metadata": {},
   "source": [
    "Do some clean-up by renaming columns and moving _bmi_ after _weight_"
   ]
  },
  {
   "cell_type": "code",
   "execution_count": 12,
   "id": "b0077916",
   "metadata": {},
   "outputs": [
    {
     "data": {
      "text/plain": [
       "Index(['subject_id', 'age', 'sex', 'weight', 'height', 'trt_grp', 'RESPONSE',\n",
       "       'participant_id', 'protein_concentration', 'bmi'],\n",
       "      dtype='object')"
      ]
     },
     "execution_count": 12,
     "metadata": {},
     "output_type": "execute_result"
    }
   ],
   "source": [
    "df.columns"
   ]
  },
  {
   "cell_type": "code",
   "execution_count": 13,
   "id": "7ca1b512",
   "metadata": {},
   "outputs": [],
   "source": [
    "df = df[['subject_id', 'age', 'sex', 'weight', 'bmi', 'height', 'trt_grp',\n",
    "       'RESPONSE', 'protein_concentration']]\n",
    "\n",
    "df = df.rename(columns = {\"trt_grp\": \"treatment_group\",\n",
    "                    \"RESPONSE\": \"response\",\n",
    "                         \"subject_id\": \"participant_id\"})"
   ]
  },
  {
   "cell_type": "markdown",
   "id": "7001a9f7",
   "metadata": {},
   "source": [
    "Now let's remove pediatric patients and duplicates"
   ]
  },
  {
   "cell_type": "code",
   "execution_count": 14,
   "id": "52a3d368",
   "metadata": {},
   "outputs": [
    {
     "data": {
      "text/html": [
       "<div>\n",
       "<style scoped>\n",
       "    .dataframe tbody tr th:only-of-type {\n",
       "        vertical-align: middle;\n",
       "    }\n",
       "\n",
       "    .dataframe tbody tr th {\n",
       "        vertical-align: top;\n",
       "    }\n",
       "\n",
       "    .dataframe thead th {\n",
       "        text-align: right;\n",
       "    }\n",
       "</style>\n",
       "<table border=\"1\" class=\"dataframe\">\n",
       "  <thead>\n",
       "    <tr style=\"text-align: right;\">\n",
       "      <th></th>\n",
       "      <th>participant_id</th>\n",
       "      <th>age</th>\n",
       "      <th>sex</th>\n",
       "      <th>weight</th>\n",
       "      <th>bmi</th>\n",
       "      <th>height</th>\n",
       "      <th>treatment_group</th>\n",
       "      <th>response</th>\n",
       "      <th>protein_concentration</th>\n",
       "    </tr>\n",
       "  </thead>\n",
       "  <tbody>\n",
       "  </tbody>\n",
       "</table>\n",
       "</div>"
      ],
      "text/plain": [
       "Empty DataFrame\n",
       "Columns: [participant_id, age, sex, weight, bmi, height, treatment_group, response, protein_concentration]\n",
       "Index: []"
      ]
     },
     "execution_count": 14,
     "metadata": {},
     "output_type": "execute_result"
    }
   ],
   "source": [
    "df = df[df.age >= 21]\n",
    "df[df.age < 21]"
   ]
  },
  {
   "cell_type": "code",
   "execution_count": 15,
   "id": "658b36b8",
   "metadata": {},
   "outputs": [],
   "source": [
    "df.drop_duplicates(inplace = True)"
   ]
  },
  {
   "cell_type": "markdown",
   "id": "334a69d7",
   "metadata": {},
   "source": [
    "Let's check if there are any missing values."
   ]
  },
  {
   "cell_type": "code",
   "execution_count": 16,
   "id": "c5b2bd0c",
   "metadata": {},
   "outputs": [
    {
     "data": {
      "text/plain": [
       "participant_id           False\n",
       "age                      False\n",
       "sex                      False\n",
       "weight                    True\n",
       "bmi                       True\n",
       "height                   False\n",
       "treatment_group          False\n",
       "response                 False\n",
       "protein_concentration     True\n",
       "dtype: bool"
      ]
     },
     "execution_count": 16,
     "metadata": {},
     "output_type": "execute_result"
    }
   ],
   "source": [
    "df.isna().any()"
   ]
  },
  {
   "cell_type": "markdown",
   "id": "afca5a73",
   "metadata": {},
   "source": [
    "So there are missing values in weight, BMI and protein concentration.\n",
    "\n",
    "Counts of missing values follow."
   ]
  },
  {
   "cell_type": "code",
   "execution_count": 17,
   "id": "dce31780",
   "metadata": {},
   "outputs": [
    {
     "data": {
      "text/plain": [
       "participant_id            0\n",
       "age                       0\n",
       "sex                       0\n",
       "weight                   11\n",
       "bmi                      11\n",
       "height                    0\n",
       "treatment_group           0\n",
       "response                  0\n",
       "protein_concentration     5\n",
       "dtype: int64"
      ]
     },
     "execution_count": 17,
     "metadata": {},
     "output_type": "execute_result"
    }
   ],
   "source": [
    "len(df) - df.count()"
   ]
  },
  {
   "cell_type": "markdown",
   "id": "c94acbb2",
   "metadata": {},
   "source": [
    "There are 11 missing values in weight (and hence BMI) and 5 missing values in protein concentration. Compared to 768 observations, that is not many. We will just let pandas ignore them."
   ]
  },
  {
   "cell_type": "markdown",
   "id": "496b9032",
   "metadata": {},
   "source": [
    "Now, let's inspect if the data is valid."
   ]
  },
  {
   "cell_type": "code",
   "execution_count": 18,
   "id": "95fa5384",
   "metadata": {},
   "outputs": [
    {
     "data": {
      "text/plain": [
       "Female    389\n",
       "Male      379\n",
       "Name: sex, dtype: int64"
      ]
     },
     "execution_count": 18,
     "metadata": {},
     "output_type": "execute_result"
    }
   ],
   "source": [
    "df.sex.unique()\n",
    "df.sex.value_counts()"
   ]
  },
  {
   "cell_type": "code",
   "execution_count": 19,
   "id": "e80c714c",
   "metadata": {},
   "outputs": [
    {
     "data": {
      "text/plain": [
       "CONTROL    385\n",
       "DRUG       383\n",
       "Name: treatment_group, dtype: int64"
      ]
     },
     "execution_count": 19,
     "metadata": {},
     "output_type": "execute_result"
    }
   ],
   "source": [
    "df.treatment_group.value_counts()"
   ]
  },
  {
   "cell_type": "code",
   "execution_count": 20,
   "id": "63f09d6d",
   "metadata": {},
   "outputs": [
    {
     "data": {
      "text/plain": [
       "46.17"
      ]
     },
     "execution_count": 20,
     "metadata": {},
     "output_type": "execute_result"
    }
   ],
   "source": [
    "df.weight.min()"
   ]
  },
  {
   "cell_type": "markdown",
   "id": "467f35be",
   "metadata": {},
   "source": [
    "The data is now clean and ready for analysis. Let's look at its final form."
   ]
  },
  {
   "cell_type": "code",
   "execution_count": 21,
   "id": "e90a2cdb",
   "metadata": {},
   "outputs": [
    {
     "data": {
      "text/html": [
       "<div>\n",
       "<style scoped>\n",
       "    .dataframe tbody tr th:only-of-type {\n",
       "        vertical-align: middle;\n",
       "    }\n",
       "\n",
       "    .dataframe tbody tr th {\n",
       "        vertical-align: top;\n",
       "    }\n",
       "\n",
       "    .dataframe thead th {\n",
       "        text-align: right;\n",
       "    }\n",
       "</style>\n",
       "<table border=\"1\" class=\"dataframe\">\n",
       "  <thead>\n",
       "    <tr style=\"text-align: right;\">\n",
       "      <th></th>\n",
       "      <th>participant_id</th>\n",
       "      <th>age</th>\n",
       "      <th>sex</th>\n",
       "      <th>weight</th>\n",
       "      <th>bmi</th>\n",
       "      <th>height</th>\n",
       "      <th>treatment_group</th>\n",
       "      <th>response</th>\n",
       "      <th>protein_concentration</th>\n",
       "    </tr>\n",
       "  </thead>\n",
       "  <tbody>\n",
       "    <tr>\n",
       "      <th>0</th>\n",
       "      <td>SUBJ_001</td>\n",
       "      <td>46.0</td>\n",
       "      <td>Female</td>\n",
       "      <td>84.66</td>\n",
       "      <td>33.5</td>\n",
       "      <td>1.59</td>\n",
       "      <td>DRUG</td>\n",
       "      <td>N</td>\n",
       "      <td>148.0</td>\n",
       "    </tr>\n",
       "    <tr>\n",
       "      <th>2</th>\n",
       "      <td>SUBJ_002</td>\n",
       "      <td>47.0</td>\n",
       "      <td>Female</td>\n",
       "      <td>71.21</td>\n",
       "      <td>26.5</td>\n",
       "      <td>1.64</td>\n",
       "      <td>DRUG</td>\n",
       "      <td>Y</td>\n",
       "      <td>85.0</td>\n",
       "    </tr>\n",
       "    <tr>\n",
       "      <th>3</th>\n",
       "      <td>SUBJ_003</td>\n",
       "      <td>48.0</td>\n",
       "      <td>Female</td>\n",
       "      <td>69.85</td>\n",
       "      <td>23.3</td>\n",
       "      <td>1.73</td>\n",
       "      <td>CONTROL</td>\n",
       "      <td>N</td>\n",
       "      <td>183.0</td>\n",
       "    </tr>\n",
       "    <tr>\n",
       "      <th>4</th>\n",
       "      <td>SUBJ_004</td>\n",
       "      <td>59.0</td>\n",
       "      <td>Female</td>\n",
       "      <td>62.94</td>\n",
       "      <td>28.0</td>\n",
       "      <td>1.50</td>\n",
       "      <td>DRUG</td>\n",
       "      <td>Y</td>\n",
       "      <td>89.0</td>\n",
       "    </tr>\n",
       "    <tr>\n",
       "      <th>5</th>\n",
       "      <td>SUBJ_005</td>\n",
       "      <td>59.0</td>\n",
       "      <td>Female</td>\n",
       "      <td>113.91</td>\n",
       "      <td>42.9</td>\n",
       "      <td>1.63</td>\n",
       "      <td>CONTROL</td>\n",
       "      <td>N</td>\n",
       "      <td>137.0</td>\n",
       "    </tr>\n",
       "  </tbody>\n",
       "</table>\n",
       "</div>"
      ],
      "text/plain": [
       "  participant_id   age     sex  weight   bmi  height treatment_group response  \\\n",
       "0       SUBJ_001  46.0  Female   84.66  33.5    1.59            DRUG        N   \n",
       "2       SUBJ_002  47.0  Female   71.21  26.5    1.64            DRUG        Y   \n",
       "3       SUBJ_003  48.0  Female   69.85  23.3    1.73         CONTROL        N   \n",
       "4       SUBJ_004  59.0  Female   62.94  28.0    1.50            DRUG        Y   \n",
       "5       SUBJ_005  59.0  Female  113.91  42.9    1.63         CONTROL        N   \n",
       "\n",
       "   protein_concentration  \n",
       "0                  148.0  \n",
       "2                   85.0  \n",
       "3                  183.0  \n",
       "4                   89.0  \n",
       "5                  137.0  "
      ]
     },
     "execution_count": 21,
     "metadata": {},
     "output_type": "execute_result"
    }
   ],
   "source": [
    "df.head()"
   ]
  },
  {
   "cell_type": "markdown",
   "id": "2a10bc21",
   "metadata": {},
   "source": [
    "-----------------------------------------------------------------"
   ]
  },
  {
   "cell_type": "markdown",
   "id": "6c47e4ee",
   "metadata": {},
   "source": [
    "Let's check if treatment groups are balanced."
   ]
  },
  {
   "cell_type": "code",
   "execution_count": 22,
   "id": "2675b67c",
   "metadata": {},
   "outputs": [
    {
     "data": {
      "text/plain": [
       "383"
      ]
     },
     "execution_count": 22,
     "metadata": {},
     "output_type": "execute_result"
    }
   ],
   "source": [
    "df[df.treatment_group == \"DRUG\"].participant_id.count()"
   ]
  },
  {
   "cell_type": "code",
   "execution_count": 23,
   "id": "9c77d95f",
   "metadata": {},
   "outputs": [
    {
     "data": {
      "text/plain": [
       "385"
      ]
     },
     "execution_count": 23,
     "metadata": {},
     "output_type": "execute_result"
    }
   ],
   "source": [
    "df[df.treatment_group == \"CONTROL\"].participant_id.count()"
   ]
  },
  {
   "cell_type": "code",
   "execution_count": 24,
   "id": "139d36cc",
   "metadata": {},
   "outputs": [
    {
     "data": {
      "text/plain": [
       "Male      196\n",
       "Female    187\n",
       "Name: sex, dtype: int64"
      ]
     },
     "execution_count": 24,
     "metadata": {},
     "output_type": "execute_result"
    }
   ],
   "source": [
    "df[df.treatment_group == \"DRUG\"].sex.value_counts()"
   ]
  },
  {
   "cell_type": "code",
   "execution_count": 25,
   "id": "b0bcc0b5",
   "metadata": {},
   "outputs": [
    {
     "data": {
      "text/plain": [
       "Female    202\n",
       "Male      183\n",
       "Name: sex, dtype: int64"
      ]
     },
     "execution_count": 25,
     "metadata": {},
     "output_type": "execute_result"
    }
   ],
   "source": [
    "df[df.treatment_group == \"CONTROL\"].sex.value_counts()"
   ]
  },
  {
   "cell_type": "code",
   "execution_count": 26,
   "id": "11e9421c",
   "metadata": {},
   "outputs": [
    {
     "data": {
      "text/plain": [
       "61.759791122715406"
      ]
     },
     "execution_count": 26,
     "metadata": {},
     "output_type": "execute_result"
    }
   ],
   "source": [
    "df[df.treatment_group == \"DRUG\"].age.mean()"
   ]
  },
  {
   "cell_type": "code",
   "execution_count": 27,
   "id": "b537b4c1",
   "metadata": {},
   "outputs": [
    {
     "data": {
      "text/plain": [
       "61.862337662337666"
      ]
     },
     "execution_count": 27,
     "metadata": {},
     "output_type": "execute_result"
    }
   ],
   "source": [
    "df[df.treatment_group == \"CONTROL\"].age.mean()"
   ]
  },
  {
   "cell_type": "code",
   "execution_count": 28,
   "id": "4fd9446e",
   "metadata": {},
   "outputs": [
    {
     "data": {
      "text/plain": [
       "31.986807387862797"
      ]
     },
     "execution_count": 28,
     "metadata": {},
     "output_type": "execute_result"
    }
   ],
   "source": [
    "df[df.treatment_group == \"DRUG\"].bmi.mean()"
   ]
  },
  {
   "cell_type": "code",
   "execution_count": 29,
   "id": "d32f4021",
   "metadata": {},
   "outputs": [
    {
     "data": {
      "text/plain": [
       "32.66719576719577"
      ]
     },
     "execution_count": 29,
     "metadata": {},
     "output_type": "execute_result"
    }
   ],
   "source": [
    "df[df.treatment_group == \"CONTROL\"].bmi.mean()"
   ]
  },
  {
   "cell_type": "code",
   "execution_count": 30,
   "id": "8dd5e21a",
   "metadata": {},
   "outputs": [
    {
     "data": {
      "text/plain": [
       "1.6827415143603133"
      ]
     },
     "execution_count": 30,
     "metadata": {},
     "output_type": "execute_result"
    }
   ],
   "source": [
    "df[df.treatment_group == \"DRUG\"].height.mean()"
   ]
  },
  {
   "cell_type": "code",
   "execution_count": 31,
   "id": "b053c2c3",
   "metadata": {},
   "outputs": [
    {
     "data": {
      "text/plain": [
       "1.6758181818181819"
      ]
     },
     "execution_count": 31,
     "metadata": {},
     "output_type": "execute_result"
    }
   ],
   "source": [
    "df[df.treatment_group == \"CONTROL\"].height.mean()"
   ]
  },
  {
   "cell_type": "code",
   "execution_count": 32,
   "id": "64c5e9ff",
   "metadata": {},
   "outputs": [
    {
     "data": {
      "text/plain": [
       "122.08179419525067"
      ]
     },
     "execution_count": 32,
     "metadata": {},
     "output_type": "execute_result"
    }
   ],
   "source": [
    "df[df.treatment_group == \"DRUG\"].protein_concentration.mean()"
   ]
  },
  {
   "cell_type": "code",
   "execution_count": 33,
   "id": "8ffa8a67",
   "metadata": {},
   "outputs": [
    {
     "data": {
      "text/plain": [
       "121.296875"
      ]
     },
     "execution_count": 33,
     "metadata": {},
     "output_type": "execute_result"
    }
   ],
   "source": [
    "df[df.treatment_group == \"CONTROL\"].protein_concentration.mean()"
   ]
  },
  {
   "cell_type": "markdown",
   "id": "c5e5f074",
   "metadata": {},
   "source": [
    "Or we can do the same but better by using `groupby`"
   ]
  },
  {
   "cell_type": "code",
   "execution_count": 34,
   "id": "e0e14cbf",
   "metadata": {},
   "outputs": [
    {
     "data": {
      "text/plain": [
       "treatment_group  sex   \n",
       "CONTROL          Female    202\n",
       "                 Male      183\n",
       "DRUG             Male      196\n",
       "                 Female    187\n",
       "Name: sex, dtype: int64"
      ]
     },
     "execution_count": 34,
     "metadata": {},
     "output_type": "execute_result"
    }
   ],
   "source": [
    "df.groupby(\"treatment_group\").sex.value_counts()"
   ]
  },
  {
   "cell_type": "code",
   "execution_count": 35,
   "id": "a305ba33",
   "metadata": {},
   "outputs": [
    {
     "data": {
      "text/html": [
       "<div>\n",
       "<style scoped>\n",
       "    .dataframe tbody tr th:only-of-type {\n",
       "        vertical-align: middle;\n",
       "    }\n",
       "\n",
       "    .dataframe tbody tr th {\n",
       "        vertical-align: top;\n",
       "    }\n",
       "\n",
       "    .dataframe thead th {\n",
       "        text-align: right;\n",
       "    }\n",
       "</style>\n",
       "<table border=\"1\" class=\"dataframe\">\n",
       "  <thead>\n",
       "    <tr style=\"text-align: right;\">\n",
       "      <th></th>\n",
       "      <th>age</th>\n",
       "      <th>weight</th>\n",
       "      <th>bmi</th>\n",
       "      <th>height</th>\n",
       "      <th>protein_concentration</th>\n",
       "    </tr>\n",
       "    <tr>\n",
       "      <th>treatment_group</th>\n",
       "      <th></th>\n",
       "      <th></th>\n",
       "      <th></th>\n",
       "      <th></th>\n",
       "      <th></th>\n",
       "    </tr>\n",
       "  </thead>\n",
       "  <tbody>\n",
       "    <tr>\n",
       "      <th>CONTROL</th>\n",
       "      <td>61.86</td>\n",
       "      <td>91.94</td>\n",
       "      <td>32.67</td>\n",
       "      <td>1.68</td>\n",
       "      <td>121.30</td>\n",
       "    </tr>\n",
       "    <tr>\n",
       "      <th>DRUG</th>\n",
       "      <td>61.76</td>\n",
       "      <td>90.84</td>\n",
       "      <td>31.99</td>\n",
       "      <td>1.68</td>\n",
       "      <td>122.08</td>\n",
       "    </tr>\n",
       "  </tbody>\n",
       "</table>\n",
       "</div>"
      ],
      "text/plain": [
       "                   age  weight    bmi  height  protein_concentration\n",
       "treatment_group                                                     \n",
       "CONTROL          61.86   91.94  32.67    1.68                 121.30\n",
       "DRUG             61.76   90.84  31.99    1.68                 122.08"
      ]
     },
     "execution_count": 35,
     "metadata": {},
     "output_type": "execute_result"
    }
   ],
   "source": [
    "df.groupby(\"treatment_group\").mean(numeric_only = True).round(2)"
   ]
  },
  {
   "cell_type": "markdown",
   "id": "c1099fcf",
   "metadata": {},
   "source": [
    "The treatment groups look to be well balanced."
   ]
  },
  {
   "cell_type": "markdown",
   "id": "51ed7bc8",
   "metadata": {},
   "source": [
    "---------------------------------------------------"
   ]
  },
  {
   "cell_type": "markdown",
   "id": "80c052b4",
   "metadata": {},
   "source": [
    "Now let's look at the responses to answer the question: is the drug effective?"
   ]
  },
  {
   "cell_type": "code",
   "execution_count": 36,
   "id": "eda4c727",
   "metadata": {},
   "outputs": [
    {
     "data": {
      "text/html": [
       "<div>\n",
       "<style scoped>\n",
       "    .dataframe tbody tr th:only-of-type {\n",
       "        vertical-align: middle;\n",
       "    }\n",
       "\n",
       "    .dataframe tbody tr th {\n",
       "        vertical-align: top;\n",
       "    }\n",
       "\n",
       "    .dataframe thead th {\n",
       "        text-align: right;\n",
       "    }\n",
       "</style>\n",
       "<table border=\"1\" class=\"dataframe\">\n",
       "  <thead>\n",
       "    <tr style=\"text-align: right;\">\n",
       "      <th>response</th>\n",
       "      <th>Y</th>\n",
       "      <th>N</th>\n",
       "    </tr>\n",
       "    <tr>\n",
       "      <th>treatment_group</th>\n",
       "      <th></th>\n",
       "      <th></th>\n",
       "    </tr>\n",
       "  </thead>\n",
       "  <tbody>\n",
       "    <tr>\n",
       "      <th>DRUG</th>\n",
       "      <td>210</td>\n",
       "      <td>173</td>\n",
       "    </tr>\n",
       "    <tr>\n",
       "      <th>CONTROL</th>\n",
       "      <td>124</td>\n",
       "      <td>261</td>\n",
       "    </tr>\n",
       "  </tbody>\n",
       "</table>\n",
       "</div>"
      ],
      "text/plain": [
       "response           Y    N\n",
       "treatment_group          \n",
       "DRUG             210  173\n",
       "CONTROL          124  261"
      ]
     },
     "execution_count": 36,
     "metadata": {},
     "output_type": "execute_result"
    }
   ],
   "source": [
    "contingency = pd.crosstab(index = df['treatment_group'], columns =\n",
    "                          df['response']).reindex(index =[\"DRUG\", \"CONTROL\"], columns= [\"Y\", \"N\"])\n",
    "contingency"
   ]
  },
  {
   "cell_type": "code",
   "execution_count": 37,
   "id": "702b5ec5",
   "metadata": {},
   "outputs": [
    {
     "name": "stdout",
     "output_type": "stream",
     "text": [
      "In the drug group, a proportion of 0.548 participants had a response.\n",
      "In the control group, a proportion of 0.322 participants had a response.\n"
     ]
    }
   ],
   "source": [
    "print(f\"In the drug group, a proportion of {round(210/(173+210),3)} participants had a response.\")\n",
    "print(f\"In the control group, a proportion of {round(124/(124+261),3)} participants had a response.\")"
   ]
  },
  {
   "cell_type": "code",
   "execution_count": 38,
   "id": "f5e4e5c3",
   "metadata": {},
   "outputs": [
    {
     "data": {
      "text/plain": [
       "4.0953175442471774e-10"
      ]
     },
     "execution_count": 38,
     "metadata": {},
     "output_type": "execute_result"
    }
   ],
   "source": [
    "chi2_contingency(contingency).pvalue"
   ]
  },
  {
   "cell_type": "markdown",
   "id": "21bc58ce",
   "metadata": {},
   "source": [
    "The _p-value_ in the chi-squared test for no association is very small, therefore there is very strong evidence against the null hypothesis. There is very strong evidence of a positive association between taking the drug and having a response. The drug is effective. But how effective?"
   ]
  },
  {
   "cell_type": "code",
   "execution_count": 39,
   "id": "a2a61946",
   "metadata": {},
   "outputs": [
    {
     "data": {
      "text/plain": [
       "1.7"
      ]
     },
     "execution_count": 39,
     "metadata": {},
     "output_type": "execute_result"
    }
   ],
   "source": [
    "result = relative_risk(210, 210+173, 124, 123 + 261)\n",
    "round(result.relative_risk, 2)"
   ]
  },
  {
   "cell_type": "code",
   "execution_count": 40,
   "id": "2203f317",
   "metadata": {},
   "outputs": [
    {
     "data": {
      "text/plain": [
       "ConfidenceInterval(low=1.4310965729442944, high=2.0146108947467827)"
      ]
     },
     "execution_count": 40,
     "metadata": {},
     "output_type": "execute_result"
    }
   ],
   "source": [
    "result.confidence_interval(0.95)"
   ]
  },
  {
   "cell_type": "code",
   "execution_count": 41,
   "id": "a8717fc7",
   "metadata": {},
   "outputs": [
    {
     "data": {
      "text/plain": [
       "2.6"
      ]
     },
     "execution_count": 41,
     "metadata": {},
     "output_type": "execute_result"
    }
   ],
   "source": [
    "result_odds = odds_ratio(contingency, kind=\"sample\")\n",
    "round(result_odds.statistic, 1)"
   ]
  },
  {
   "cell_type": "code",
   "execution_count": 42,
   "id": "e9bd8b74",
   "metadata": {},
   "outputs": [
    {
     "data": {
      "text/plain": [
       "ConfidenceInterval(low=1.9049662776388707, high=3.4268629453145794)"
      ]
     },
     "execution_count": 42,
     "metadata": {},
     "output_type": "execute_result"
    }
   ],
   "source": [
    "result_odds.confidence_interval(0.95)"
   ]
  },
  {
   "cell_type": "markdown",
   "id": "f85505e0",
   "metadata": {},
   "source": [
    "RR = 1.7 with 95% CI (1.4, 2.0); OR = 2.6 with 95% CI (1.9, 3.4)."
   ]
  },
  {
   "cell_type": "markdown",
   "id": "39147a8d",
   "metadata": {},
   "source": [
    "Therefore, the patients saw a substantial benefit."
   ]
  },
  {
   "cell_type": "markdown",
   "id": "d4727881",
   "metadata": {},
   "source": [
    "-----------------------------------------------------------------"
   ]
  },
  {
   "cell_type": "markdown",
   "id": "2e592e5f",
   "metadata": {},
   "source": [
    "The question to answer now is which subgroups of patients are benefiting more from the treatment?"
   ]
  },
  {
   "cell_type": "code",
   "execution_count": 43,
   "id": "0cb47aa7",
   "metadata": {},
   "outputs": [
    {
     "data": {
      "text/html": [
       "<div>\n",
       "<style scoped>\n",
       "    .dataframe tbody tr th:only-of-type {\n",
       "        vertical-align: middle;\n",
       "    }\n",
       "\n",
       "    .dataframe tbody tr th {\n",
       "        vertical-align: top;\n",
       "    }\n",
       "\n",
       "    .dataframe thead th {\n",
       "        text-align: right;\n",
       "    }\n",
       "</style>\n",
       "<table border=\"1\" class=\"dataframe\">\n",
       "  <thead>\n",
       "    <tr style=\"text-align: right;\">\n",
       "      <th></th>\n",
       "      <th>age</th>\n",
       "      <th>weight</th>\n",
       "      <th>bmi</th>\n",
       "      <th>height</th>\n",
       "      <th>protein_concentration</th>\n",
       "    </tr>\n",
       "    <tr>\n",
       "      <th>response</th>\n",
       "      <th></th>\n",
       "      <th></th>\n",
       "      <th></th>\n",
       "      <th></th>\n",
       "      <th></th>\n",
       "    </tr>\n",
       "  </thead>\n",
       "  <tbody>\n",
       "    <tr>\n",
       "      <th>N</th>\n",
       "      <td>61.75</td>\n",
       "      <td>89.92</td>\n",
       "      <td>31.86</td>\n",
       "      <td>1.68</td>\n",
       "      <td>134.98</td>\n",
       "    </tr>\n",
       "    <tr>\n",
       "      <th>Y</th>\n",
       "      <td>61.89</td>\n",
       "      <td>93.26</td>\n",
       "      <td>32.93</td>\n",
       "      <td>1.68</td>\n",
       "      <td>104.43</td>\n",
       "    </tr>\n",
       "  </tbody>\n",
       "</table>\n",
       "</div>"
      ],
      "text/plain": [
       "            age  weight    bmi  height  protein_concentration\n",
       "response                                                     \n",
       "N         61.75   89.92  31.86    1.68                 134.98\n",
       "Y         61.89   93.26  32.93    1.68                 104.43"
      ]
     },
     "execution_count": 43,
     "metadata": {},
     "output_type": "execute_result"
    }
   ],
   "source": [
    "grouped_by_r = df.groupby(\"response\")\n",
    "grouped_by_r[[\"age\", \"weight\", \"bmi\", \"height\", \"protein_concentration\"]].mean().round(2)"
   ]
  },
  {
   "cell_type": "code",
   "execution_count": 44,
   "id": "30ccc8cb",
   "metadata": {},
   "outputs": [
    {
     "data": {
      "text/html": [
       "<div>\n",
       "<style scoped>\n",
       "    .dataframe tbody tr th:only-of-type {\n",
       "        vertical-align: middle;\n",
       "    }\n",
       "\n",
       "    .dataframe tbody tr th {\n",
       "        vertical-align: top;\n",
       "    }\n",
       "\n",
       "    .dataframe thead th {\n",
       "        text-align: right;\n",
       "    }\n",
       "</style>\n",
       "<table border=\"1\" class=\"dataframe\">\n",
       "  <thead>\n",
       "    <tr style=\"text-align: right;\">\n",
       "      <th></th>\n",
       "      <th></th>\n",
       "      <th>age</th>\n",
       "      <th>weight</th>\n",
       "      <th>bmi</th>\n",
       "      <th>height</th>\n",
       "      <th>protein_concentration</th>\n",
       "    </tr>\n",
       "    <tr>\n",
       "      <th>treatment_group</th>\n",
       "      <th>response</th>\n",
       "      <th></th>\n",
       "      <th></th>\n",
       "      <th></th>\n",
       "      <th></th>\n",
       "      <th></th>\n",
       "    </tr>\n",
       "  </thead>\n",
       "  <tbody>\n",
       "    <tr>\n",
       "      <th rowspan=\"2\" valign=\"top\">CONTROL</th>\n",
       "      <th>N</th>\n",
       "      <td>62.04</td>\n",
       "      <td>89.76</td>\n",
       "      <td>31.88</td>\n",
       "      <td>1.68</td>\n",
       "      <td>128.80</td>\n",
       "    </tr>\n",
       "    <tr>\n",
       "      <th>Y</th>\n",
       "      <td>61.48</td>\n",
       "      <td>96.40</td>\n",
       "      <td>34.28</td>\n",
       "      <td>1.67</td>\n",
       "      <td>105.38</td>\n",
       "    </tr>\n",
       "    <tr>\n",
       "      <th rowspan=\"2\" valign=\"top\">DRUG</th>\n",
       "      <th>N</th>\n",
       "      <td>61.31</td>\n",
       "      <td>90.16</td>\n",
       "      <td>31.83</td>\n",
       "      <td>1.68</td>\n",
       "      <td>144.46</td>\n",
       "    </tr>\n",
       "    <tr>\n",
       "      <th>Y</th>\n",
       "      <td>62.13</td>\n",
       "      <td>91.39</td>\n",
       "      <td>32.12</td>\n",
       "      <td>1.69</td>\n",
       "      <td>103.88</td>\n",
       "    </tr>\n",
       "  </tbody>\n",
       "</table>\n",
       "</div>"
      ],
      "text/plain": [
       "                            age  weight    bmi  height  protein_concentration\n",
       "treatment_group response                                                     \n",
       "CONTROL         N         62.04   89.76  31.88    1.68                 128.80\n",
       "                Y         61.48   96.40  34.28    1.67                 105.38\n",
       "DRUG            N         61.31   90.16  31.83    1.68                 144.46\n",
       "                Y         62.13   91.39  32.12    1.69                 103.88"
      ]
     },
     "execution_count": 44,
     "metadata": {},
     "output_type": "execute_result"
    }
   ],
   "source": [
    "grouped_by_t_r = df.groupby([\"treatment_group\", \"response\"])\n",
    "grouped_by_t_r[[\"age\", \"weight\", \"bmi\", \"height\", \"protein_concentration\"]].mean().round(2)"
   ]
  },
  {
   "cell_type": "code",
   "execution_count": 45,
   "id": "b13ef1a2",
   "metadata": {},
   "outputs": [],
   "source": [
    "grouped_by_r.groups\n",
    "grouped_by_t_r.groups\n",
    "df_test = grouped_by_t_r.get_group(('CONTROL', 'N'))"
   ]
  },
  {
   "cell_type": "markdown",
   "id": "49e1c739",
   "metadata": {},
   "source": [
    "Mean ages across groups look similar. Let's produce a boxplot of ages."
   ]
  },
  {
   "cell_type": "code",
   "execution_count": 46,
   "id": "80ebe055",
   "metadata": {},
   "outputs": [
    {
     "data": {
      "text/plain": [
       "<Axes: xlabel='treatment_group', ylabel='age'>"
      ]
     },
     "execution_count": 46,
     "metadata": {},
     "output_type": "execute_result"
    },
    {
     "data": {
      "image/png": "[encoded data removed]",
      "text/plain": [
       "<Figure size 640x480 with 1 Axes>"
      ]
     },
     "metadata": {},
     "output_type": "display_data"
    }
   ],
   "source": [
    "sns.boxplot(x = \"treatment_group\", y = \"age\", hue = \"response\", data = df)"
   ]
  },
  {
   "cell_type": "markdown",
   "id": "4b5afcf5",
   "metadata": {},
   "source": [
    "Distributions of ages are similar across groups."
   ]
  },
  {
   "cell_type": "markdown",
   "id": "0fad3711",
   "metadata": {},
   "source": [
    "Mean BMI is slightly higher for responders. Let's investigate with a boxplot."
   ]
  },
  {
   "cell_type": "code",
   "execution_count": 47,
   "id": "058de8b7",
   "metadata": {},
   "outputs": [
    {
     "data": {
      "text/plain": [
       "<Axes: xlabel='treatment_group', ylabel='bmi'>"
      ]
     },
     "execution_count": 47,
     "metadata": {},
     "output_type": "execute_result"
    },
    {
     "data": {
      "image/png": "[encoded data removed]",
      "text/plain": [
       "<Figure size 640x480 with 1 Axes>"
      ]
     },
     "metadata": {},
     "output_type": "display_data"
    }
   ],
   "source": [
    "sns.boxplot(x = \"treatment_group\", y = \"bmi\", data = df, hue = \"response\")"
   ]
  },
  {
   "cell_type": "markdown",
   "id": "65c326db",
   "metadata": {},
   "source": [
    "Distrubution of BMI is similar across groups, except there are more extreme high values among responders. In the drug group, the distributions are nearly identical."
   ]
  },
  {
   "cell_type": "markdown",
   "id": "c5ca4a7e",
   "metadata": {},
   "source": [
    "We can perform a t-test for the difference between means too"
   ]
  },
  {
   "cell_type": "code",
   "execution_count": 48,
   "id": "94cad8e1",
   "metadata": {},
   "outputs": [
    {
     "data": {
      "text/plain": [
       "Ttest_indResult(statistic=0.3961791857001643, pvalue=0.6921969755786451)"
      ]
     },
     "execution_count": 48,
     "metadata": {},
     "output_type": "execute_result"
    }
   ],
   "source": [
    "ttest_ind(grouped_by_t_r.get_group(('DRUG', 'Y')).bmi.to_list(), grouped_by_t_r.get_group(('DRUG', 'N')).bmi.to_list(),\n",
    "         nan_policy = 'omit')"
   ]
  },
  {
   "cell_type": "code",
   "execution_count": 49,
   "id": "ddd36fca",
   "metadata": {},
   "outputs": [
    {
     "data": {
      "text/plain": [
       "Ttest_indResult(statistic=2.1139269000207617, pvalue=0.03484884491794387)"
      ]
     },
     "execution_count": 49,
     "metadata": {},
     "output_type": "execute_result"
    }
   ],
   "source": [
    "ttest_ind(grouped_by_r.get_group('Y').bmi, grouped_by_r.get_group('N').bmi,\n",
    "         nan_policy = 'omit')"
   ]
  },
  {
   "cell_type": "markdown",
   "id": "9975eef4",
   "metadata": {},
   "source": [
    "There is no difference in the distributions of BMIs for responders and non-responders in the drug group. There is moderate evidence of a difference in mean BMI between all responders and all non-reponders, but considering there are more high potential outliers among responders, this doesn't not appear to be important."
   ]
  },
  {
   "cell_type": "markdown",
   "id": "d075f990",
   "metadata": {},
   "source": [
    "The mean protein concentration is lower for responders (mean 104) than for non-responder (mean 135). Let's produce a boxplot."
   ]
  },
  {
   "cell_type": "code",
   "execution_count": 50,
   "id": "acde8e24",
   "metadata": {},
   "outputs": [
    {
     "data": {
      "text/plain": [
       "<Axes: xlabel='response', ylabel='protein_concentration'>"
      ]
     },
     "execution_count": 50,
     "metadata": {},
     "output_type": "execute_result"
    },
    {
     "data": {
      "image/png": "[encoded data removed]",
      "text/plain": [
       "<Figure size 640x480 with 1 Axes>"
      ]
     },
     "metadata": {},
     "output_type": "display_data"
    }
   ],
   "source": [
    "sns.boxplot(x = \"response\", y = \"protein_concentration\", data = df)"
   ]
  },
  {
   "cell_type": "markdown",
   "id": "d5729f30",
   "metadata": {},
   "source": [
    "And a histogram of the distributions of protein concentration among the different groups."
   ]
  },
  {
   "cell_type": "code",
   "execution_count": 51,
   "id": "c3c77083",
   "metadata": {},
   "outputs": [
    {
     "data": {
      "image/png": "[encoded data removed]",
      "text/plain": [
       "<Figure size 1000x800 with 4 Axes>"
      ]
     },
     "metadata": {},
     "output_type": "display_data"
    }
   ],
   "source": [
    "fig, ax = plt.subplots(nrows = 2, ncols = 2, figsize = (10,8))\n",
    "plt.setp(ax, xlim = (30, 210), ylim=(0,  0.025))\n",
    "\n",
    "sns.histplot(x = \"protein_concentration\", data = grouped_by_t_r.get_group(('DRUG', 'N')), stat = \"density\", ax = ax[1, 0])\n",
    "sns.histplot(x = \"protein_concentration\", data = grouped_by_t_r.get_group(('DRUG', 'Y')), stat = \"density\", ax = ax[1, 1])\n",
    "\n",
    "sns.histplot(x = \"protein_concentration\", data = grouped_by_t_r.get_group(('CONTROL', 'N')), stat = \"density\", ax = ax[0, 0])\n",
    "sns.histplot(x = \"protein_concentration\", data = grouped_by_t_r.get_group(('CONTROL', 'Y')), stat = \"density\", ax = ax[0, 1])\n",
    "\n",
    "plt.show()"
   ]
  },
  {
   "cell_type": "markdown",
   "id": "5109e212",
   "metadata": {},
   "source": [
    "Or, better."
   ]
  },
  {
   "cell_type": "code",
   "execution_count": 52,
   "id": "d5aa0d3f",
   "metadata": {},
   "outputs": [
    {
     "data": {
      "text/plain": [
       "<seaborn.axisgrid.FacetGrid at 0x283fd370760>"
      ]
     },
     "execution_count": 52,
     "metadata": {},
     "output_type": "execute_result"
    },
    {
     "data": {
      "image/png": "[encoded data removed]",
      "text/plain": [
       "<Figure size 1200x800 with 4 Axes>"
      ]
     },
     "metadata": {},
     "output_type": "display_data"
    }
   ],
   "source": [
    "sns.displot(df, x = \"protein_concentration\", row = \"treatment_group\", col = \"response\", stat = \"density\",\n",
    "            height = 4, aspect = 1.5, common_norm = False)"
   ]
  },
  {
   "cell_type": "markdown",
   "id": "1047bb9c",
   "metadata": {},
   "source": [
    "Responders tend to have a protein concentration below 140. For non-reponders, the high end of possible range of values is much higher."
   ]
  },
  {
   "cell_type": "markdown",
   "id": "d59f6be4",
   "metadata": {},
   "source": [
    "We can perform a two-sample t-test."
   ]
  },
  {
   "cell_type": "code",
   "execution_count": 53,
   "id": "f5f7dbb5",
   "metadata": {},
   "outputs": [
    {
     "data": {
      "text/plain": [
       "Ttest_indResult(statistic=-15.766937692608886, pvalue=1.1280938358273306e-48)"
      ]
     },
     "execution_count": 53,
     "metadata": {},
     "output_type": "execute_result"
    }
   ],
   "source": [
    "ttest_ind(grouped_by_r.get_group('Y').protein_concentration, grouped_by_r.get_group('N').protein_concentration,\n",
    "         nan_policy = 'omit')"
   ]
  },
  {
   "cell_type": "markdown",
   "id": "1eb1585e",
   "metadata": {},
   "source": [
    "There is very strong evidence that the mean protein concentration is lower for responders compared to non-responders."
   ]
  }
 ],
 "metadata": {
  "kernelspec": {
   "display_name": "Python 3 (ipykernel)",
   "language": "python",
   "name": "python3"
  },
  "language_info": {
   "codemirror_mode": {
    "name": "ipython",
    "version": 3
   },
   "file_extension": ".py",
   "mimetype": "text/x-python",
   "name": "python",
   "nbconvert_exporter": "python",
   "pygments_lexer": "ipython3",
   "version": "3.10.9"
  }
 },
 "nbformat": 4,
 "nbformat_minor": 5
}
